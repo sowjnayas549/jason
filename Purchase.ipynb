{
  "nbformat": 4,
  "nbformat_minor": 0,
  "metadata": {
    "colab": {
      "name": "Purchase.ipynb",
      "provenance": []
    },
    "kernelspec": {
      "name": "python3",
      "display_name": "Python 3"
    },
    "language_info": {
      "name": "python"
    }
  },
  "cells": [
    {
      "cell_type": "code",
      "metadata": {
        "id": "JophwA6ESSHj"
      },
      "source": [
        "import pandas as pd\n",
        "import json"
      ],
      "execution_count": 1,
      "outputs": []
    },
    {
      "cell_type": "code",
      "metadata": {
        "id": "9xEdUpxgUiJe"
      },
      "source": [
        "record={\t\"1001\": {\"name\": \"sugar\", \"qn\": 34, \"pr\": 100}, \n",
        "\t\"1002\": {\"name\": \"teapowder\", \"pr\": 800, \"qn\": 100}, \n",
        "\t\"1003\": {\"name\": \"Dal\", \"pr\": 85, \"qn\": 100}, \n",
        "\t\"1004\": {\"name\": \"Moog\", \"pr\": 5, \"qn\": 1000}, \n",
        "\t\"1005\": {\"name\": \"wheat\", \"pr\": 20, \"qn\": 100}, \n",
        "\t\"1006\": {\"name\": \"paddy\", \"pr\": 50000, \"qn\": 10}, \n",
        "\t\"1007\": {\"name\": \"Jowar\", \"pr\": 1500, \"qn\": 110}, \n",
        "\t\"1008\": {\"name\": \"Agarbatti\", \"pr\": 599, \"qn\": 5}, \n",
        "\t\"1009\": {\"name\": \"rin soap\", \"pr\": 18, \"qn\": 10},\n",
        "\t\"1010\": {\"name\": \"powder\", \"pr\": 133, \"qn\": 9},\n",
        "\t\"1011\": {\"name\": \"pickle\", \"pr\": 189, \"qn\": 7},\n",
        "\t\"1012\": {\"name\": \"brush\", \"pr\": 139, \"qn\": 22},\n",
        "\t\"1013\": {\"name\": \"Flour\", \"pr\": 1923, \"qn\": 120},\n",
        "\t\"1014\": {\"name\": \"Santoor soap\", \"pr\": 18, \"qn\": 110},\n",
        "\t\"1015\": {\"name\": \"Lux soap\", \"pr\": 169, \"qn\": 130},\n",
        "\t\"1016\": {\"name\": \"Neem soap\", \"pr\": 189, \"qn\": 120},\n",
        "\t\"1017\": {\"name\": \"Green dal soap\", \"pr\": 199, \"qn\": 1},\n",
        "\t\"1018\": {\"name\": \"Chilli powder\", \"pr\": 10, \"qn\": 1},\n",
        "\t\"1019\": {\"name\": \"Lays\", \"pr\": 88, \"qn\": 8},\n",
        "\t\"1020\": {\"name\": \"Kukure\", \"pr\": 889, \"qn\": 90},\n",
        "\t\"1021\": {\"name\": \"Chik shampoo\", \"pr\": 1799, \"qn\": 99},\n",
        "\t\"1022\": {\"name\": \"Dove shampoo\", \"pr\": 1679, \"qn\": 10},\n",
        "\t\"1023\": {\"name\": \"Lemon rice powder\", \"pr\": 1779, \"qn\": 9},\n",
        "\t\"1024\": {\"name\": \"Sunsilk\", \"pr\": 1999, \"qn\": 33},\n",
        "\t\"1025\": {\"name\": \"cashew nut\", \"pr\": 134, \"qn\": 5},\n",
        "\t\"1026\": {\"name\": \"badam\", \"pr\": 132, \"qn\": 3},\n",
        "\t\"1027\": {\"name\": \"Pista\", \"pr\": 134, \"qn\": 9},\n",
        "\t\"1028\": {\"name\": \"Pasta\", \"pr\": 198, \"qn\": 3},\n",
        "\t\"1029\": {\"name\": \"soft drinks\", \"pr\": 197, \"qn\": 3},\n",
        "\t\"1030\": {\"name\": \"Chocolate pack\", \"pr\": 199, \"qn\": 1}}"
      ],
      "execution_count": 3,
      "outputs": []
    },
    {
      "cell_type": "code",
      "metadata": {
        "id": "992GfXepVAqp"
      },
      "source": [
        "record_json=json.dumps(record)"
      ],
      "execution_count": 4,
      "outputs": []
    },
    {
      "cell_type": "code",
      "metadata": {
        "colab": {
          "base_uri": "https://localhost:8080/",
          "height": 137
        },
        "id": "ir0RT80gVWsW",
        "outputId": "0f6923c8-cfc1-4c4e-d7de-29257770b246"
      },
      "source": [
        "record_json"
      ],
      "execution_count": 5,
      "outputs": [
        {
          "output_type": "execute_result",
          "data": {
            "application/vnd.google.colaboratory.intrinsic+json": {
              "type": "string"
            },
            "text/plain": [
              "'{\"1001\": {\"name\": \"sugar\", \"qn\": 34, \"pr\": 100}, \"1002\": {\"name\": \"teapowder\", \"pr\": 800, \"qn\": 100}, \"1003\": {\"name\": \"Dal\", \"pr\": 85, \"qn\": 100}, \"1004\": {\"name\": \"Moog\", \"pr\": 5, \"qn\": 1000}, \"1005\": {\"name\": \"wheat\", \"pr\": 20, \"qn\": 100}, \"1006\": {\"name\": \"paddy\", \"pr\": 50000, \"qn\": 10}, \"1007\": {\"name\": \"Jowar\", \"pr\": 1500, \"qn\": 110}, \"1008\": {\"name\": \"Agarbatti\", \"pr\": 599, \"qn\": 5}, \"1009\": {\"name\": \"rin soap\", \"pr\": 18, \"qn\": 10}, \"1010\": {\"name\": \"powder\", \"pr\": 133, \"qn\": 9}, \"1011\": {\"name\": \"pickle\", \"pr\": 189, \"qn\": 7}, \"1012\": {\"name\": \"brush\", \"pr\": 139, \"qn\": 22}, \"1013\": {\"name\": \"Flour\", \"pr\": 1923, \"qn\": 120}, \"1014\": {\"name\": \"Santoor soap\", \"pr\": 18, \"qn\": 110}, \"1015\": {\"name\": \"Lux soap\", \"pr\": 169, \"qn\": 130}, \"1016\": {\"name\": \"Neem soap\", \"pr\": 189, \"qn\": 120}, \"1017\": {\"name\": \"Green dal soap\", \"pr\": 199, \"qn\": 1}, \"1018\": {\"name\": \"Chilli powder\", \"pr\": 10, \"qn\": 1}, \"1019\": {\"name\": \"Lays\", \"pr\": 88, \"qn\": 8}, \"1020\": {\"name\": \"Kukure\", \"pr\": 889, \"qn\": 90}, \"1021\": {\"name\": \"Chik shampoo\", \"pr\": 1799, \"qn\": 99}, \"1022\": {\"name\": \"Dove shampoo\", \"pr\": 1679, \"qn\": 10}, \"1023\": {\"name\": \"Lemon rice powder\", \"pr\": 1779, \"qn\": 9}, \"1024\": {\"name\": \"Sunsilk\", \"pr\": 1999, \"qn\": 33}, \"1025\": {\"name\": \"cashew nut\", \"pr\": 134, \"qn\": 5}, \"1026\": {\"name\": \"badam\", \"pr\": 132, \"qn\": 3}, \"1027\": {\"name\": \"Pista\", \"pr\": 134, \"qn\": 9}, \"1028\": {\"name\": \"Pasta\", \"pr\": 198, \"qn\": 3}, \"1029\": {\"name\": \"soft drinks\", \"pr\": 197, \"qn\": 3}, \"1030\": {\"name\": \"Chocolate pack\", \"pr\": 199, \"qn\": 1}}'"
            ]
          },
          "metadata": {},
          "execution_count": 5
        }
      ]
    },
    {
      "cell_type": "code",
      "metadata": {
        "id": "NSIPseZkVcEF"
      },
      "source": [
        "json_data=\"\"\"\n",
        "{\t\"1001\": {\"name\": \"sugar\", \"qn\": 34, \"pr\": 100}, \n",
        "\t\"1002\": {\"name\": \"teapowder\", \"pr\": 800, \"qn\": 100}, \n",
        "\t\"1003\": {\"name\": \"Dal\", \"pr\": 85, \"qn\": 100}, \n",
        "\t\"1004\": {\"name\": \"Moog\", \"pr\": 5, \"qn\": 1000}, \n",
        "\t\"1005\": {\"name\": \"wheat\", \"pr\": 20, \"qn\": 100}, \n",
        "\t\"1006\": {\"name\": \"paddy\", \"pr\": 50000, \"qn\": 10}, \n",
        "\t\"1007\": {\"name\": \"Jowar\", \"pr\": 1500, \"qn\": 110}, \n",
        "\t\"1008\": {\"name\": \"Agarbatti\", \"pr\": 599, \"qn\": 5}, \n",
        "\t\"1009\": {\"name\": \"rin soap\", \"pr\": 18, \"qn\": 10},\n",
        "\t\"1010\": {\"name\": \"powder\", \"pr\": 133, \"qn\": 9},\n",
        "\t\"1011\": {\"name\": \"pickle\", \"pr\": 189, \"qn\": 7},\n",
        "\t\"1012\": {\"name\": \"brush\", \"pr\": 139, \"qn\": 22},\n",
        "\t\"1013\": {\"name\": \"Flour\", \"pr\": 1923, \"qn\": 120},\n",
        "\t\"1014\": {\"name\": \"Santoor soap\", \"pr\": 18, \"qn\": 110},\n",
        "\t\"1015\": {\"name\": \"Lux soap\", \"pr\": 169, \"qn\": 130},\n",
        "\t\"1016\": {\"name\": \"Neem soap\", \"pr\": 189, \"qn\": 120},\n",
        "\t\"1017\": {\"name\": \"Green dal soap\", \"pr\": 199, \"qn\": 1},\n",
        "\t\"1018\": {\"name\": \"Chilli powder\", \"pr\": 10, \"qn\": 1},\n",
        "\t\"1019\": {\"name\": \"Lays\", \"pr\": 88, \"qn\": 8},\n",
        "\t\"1020\": {\"name\": \"Kukure\", \"pr\": 889, \"qn\": 90},\n",
        "\t\"1021\": {\"name\": \"Chik shampoo\", \"pr\": 1799, \"qn\": 99},\n",
        "\t\"1022\": {\"name\": \"Dove shampoo\", \"pr\": 1679, \"qn\": 10},\n",
        "\t\"1023\": {\"name\": \"Lemon rice powder\", \"pr\": 1779, \"qn\": 9},\n",
        "\t\"1024\": {\"name\": \"Sunsilk\", \"pr\": 1999, \"qn\": 33},\n",
        "\t\"1025\": {\"name\": \"cashew nut\", \"pr\": 134, \"qn\": 5},\n",
        "\t\"1026\": {\"name\": \"badam\", \"pr\": 132, \"qn\": 3},\n",
        "\t\"1027\": {\"name\": \"Pista\", \"pr\": 134, \"qn\": 9},\n",
        "\t\"1028\": {\"name\": \"Pasta\", \"pr\": 198, \"qn\": 3},\n",
        "\t\"1029\": {\"name\": \"soft drinks\", \"pr\": 197, \"qn\": 3},\n",
        "\t\"1030\": {\"name\": \"Chocolate pack\", \"pr\": 199, \"qn\": 1}}\"\"\""
      ],
      "execution_count": 6,
      "outputs": []
    },
    {
      "cell_type": "code",
      "metadata": {
        "id": "JrFYWgUGVq22"
      },
      "source": [
        "record=json.loads(record_json)"
      ],
      "execution_count": 7,
      "outputs": []
    },
    {
      "cell_type": "code",
      "metadata": {
        "colab": {
          "base_uri": "https://localhost:8080/"
        },
        "id": "DmIOl-q1V_xq",
        "outputId": "a419ad28-9283-42a9-dc90-ef3f6e72d559"
      },
      "source": [
        "ui_prod  = str(input(\"Enter the product_Id: \"))\n",
        "ui_quant = int(input(\"Enter the quantity: \"))\n",
        "\n",
        "\n",
        "print(\"Product: \", record[ui_prod]['name'])\n",
        "print(\"Price: \", record[ui_prod]['pr'])\n",
        "print('*******************************************')\n",
        "print(\"Billing Amount: \", record[ui_prod]['pr'] * ui_quant)\n",
        "\n",
        "record[ui_prod]['qn'] = record[ui_prod]['qn'] - ui_quant"
      ],
      "execution_count": 11,
      "outputs": [
        {
          "output_type": "stream",
          "name": "stdout",
          "text": [
            "Enter the product_Id: 1022\n",
            "Enter the quantity: 6\n",
            "Product:  Dove shampoo\n",
            "Price:  1679\n",
            "*******************************************\n",
            "Billing Amount:  10074\n"
          ]
        }
      ]
    },
    {
      "cell_type": "code",
      "metadata": {
        "id": "kfk4sdIqW569"
      },
      "source": [
        "js = json.dumps(record)\n",
        "\n",
        "fd = open(\"record.json\",'w')\n",
        "fd.write(js)\n",
        "fd.close()"
      ],
      "execution_count": 12,
      "outputs": []
    },
    {
      "cell_type": "code",
      "metadata": {
        "colab": {
          "base_uri": "https://localhost:8080/"
        },
        "id": "QtI4gmhjXEpo",
        "outputId": "eefadc65-3b13-4ee5-d784-b1472aa24610"
      },
      "source": [
        "{'prod' : ui_prod, 'qn' : ui_quant, 'amount': record[ui_prod]['pr'] * ui_quant}"
      ],
      "execution_count": 13,
      "outputs": [
        {
          "output_type": "execute_result",
          "data": {
            "text/plain": [
              "{'amount': 10074, 'prod': '1022', 'qn': 6}"
            ]
          },
          "metadata": {},
          "execution_count": 13
        }
      ]
    },
    {
      "cell_type": "code",
      "metadata": {
        "id": "byLkyJ8JXTRs"
      },
      "source": [
        "sales = {1 : {'prod' : ui_prod, 'qn' : ui_quant, 'amount': record[ui_prod]['pr'] * ui_quant},\n",
        "         2 : {'prod' : ui_prod, 'qn' : ui_quant, 'amount': record[ui_prod]['pr'] * ui_quant},\n",
        "         3 : {'prod' : ui_prod, 'qn' : ui_quant, 'amount': record[ui_prod]['pr'] * ui_quant}}"
      ],
      "execution_count": 14,
      "outputs": []
    },
    {
      "cell_type": "code",
      "metadata": {
        "id": "rvjaLtOpXcTD"
      },
      "source": [
        "sale = json.dumps(sales)"
      ],
      "execution_count": 16,
      "outputs": []
    },
    {
      "cell_type": "code",
      "metadata": {
        "colab": {
          "base_uri": "https://localhost:8080/",
          "height": 52
        },
        "id": "wpii1VDuXrrS",
        "outputId": "1447e0e1-1392-4c83-d252-6929904acf95"
      },
      "source": [
        "sale\n"
      ],
      "execution_count": 17,
      "outputs": [
        {
          "output_type": "execute_result",
          "data": {
            "application/vnd.google.colaboratory.intrinsic+json": {
              "type": "string"
            },
            "text/plain": [
              "'{\"1\": {\"prod\": \"1022\", \"qn\": 6, \"amount\": 10074}, \"2\": {\"prod\": \"1022\", \"qn\": 6, \"amount\": 10074}, \"3\": {\"prod\": \"1022\", \"qn\": 6, \"amount\": 10074}}'"
            ]
          },
          "metadata": {},
          "execution_count": 17
        }
      ]
    }
  ]
}